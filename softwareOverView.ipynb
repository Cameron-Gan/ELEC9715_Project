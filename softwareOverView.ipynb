{
 "cells": [
  {
   "cell_type": "markdown",
   "metadata": {
    "collapsed": true,
    "pycharm": {
     "name": "#%% md\n"
    }
   },
   "source": [
    "# Overview of the software\n",
    "\n",
    "## Appliance Class\n",
    "\n",
    "The appliance class is the collection of characteristics of the appliance we are modelling\n"
   ]
  },
  {
   "cell_type": "code",
   "execution_count": null,
   "outputs": [],
   "source": [
    "class Appliance:\n",
    "\n",
    "    def __init__(self, max_load, maintain_load, max_level, min_level, ramp_up, ramp_down):\n",
    "        self.max_load = max_load\n",
    "        self.maintain_load = maintain_load\n",
    "        self.max_level = max_level\n",
    "        self.min_level = min_level\n",
    "        self.ramp_up = ramp_up\n",
    "        self.ramp_down = ramp_down"
   ],
   "metadata": {
    "collapsed": false,
    "pycharm": {
     "name": "#%%\n"
    }
   }
  },
  {
   "cell_type": "markdown",
   "source": [
    "## Model Class\n",
    "\n",
    "The model class contains all the functionality of the software.\n",
    "\n",
    "When the model is initiated the forecast data is pulled down and parsed.\n",
    "It also initiate the model table which is used for the optimisation algorithm\n"
   ],
   "metadata": {
    "collapsed": false,
    "pycharm": {
     "name": "#%% md\n"
    }
   }
  },
  {
   "cell_type": "code",
   "execution_count": null,
   "outputs": [],
   "source": [
    "    def __init__(self, start_percentage, n, app, state):\n",
    "        self.n = n\n",
    "        self.start_n = start_percentage * self.n\n",
    "        self.appliance = app\n",
    "        self.predispatch = Predispatch().get_table('REGION_PRICE')\n",
    "        self.predispatch = self.predispatch.loc[self.predispatch['REGIONID'] == state]\n",
    "        self.forecast_price = self.extract_forecast_price()\n",
    "        self.time_steps = self.forecast_price.index.tolist()\n",
    "        self.n_time_steps = len(self.forecast_price)\n",
    "        self.cost = self.establish_costs()\n",
    "        self.ramp_up = int(app.ramp_up * self.n)\n",
    "        self.ramp_down = int(app.ramp_down * self.n)\n",
    "        self.max_level = int(self.appliance.max_level * self.n)\n",
    "        self.min_level = int(self.appliance.min_level * self.n)\n",
    "        self.model_table = self.init_model_table()\n",
    "        self.cheapest_path = None"
   ],
   "metadata": {
    "collapsed": false,
    "pycharm": {
     "name": "#%%\n"
    }
   }
  },
  {
   "cell_type": "markdown",
   "source": [
    "## The algorithm\n",
    "\n",
    "This is where the bulk of the optimisation happens.\n",
    "\n",
    "There are two main loops; <br>\n",
    "\n",
    "run_model()<br>\n",
    "For each time step we do the model_time_step loop <br>\n",
    "\n",
    "model_time_step()<br>\n",
    "each state which is reachable from the previous time step is assigned its own new Node which\n",
    "keeps track of the cumulative cost to reach that node and the path that it took to reach that\n",
    "new Node.<br>\n",
    "\n",
    "The path chosen at each node is either the path that results in the lowest cumulative cost to reach\n",
    "that node or it is either on or maintain if the node is at the lowest allowable state."
   ],
   "metadata": {
    "collapsed": false
   }
  },
  {
   "cell_type": "code",
   "execution_count": null,
   "outputs": [],
   "source": [
    "class Node:\n",
    "    def __init__(self, time):\n",
    "        self.totalCost = float('nan')\n",
    "        self.state_value = []\n",
    "        self.path = []\n",
    "        self.time = time\n",
    "\n",
    "    def run_model(self):\n",
    "        for i in range(1, self.n_time_steps):\n",
    "            # print(self.forecast_price.index[i])\n",
    "            self.model_time_step(self.forecast_price.index[i], i)\n",
    "\n",
    "\n",
    "    def model_time_step(self, time, model_table_index):\n",
    "        time_step = []\n",
    "        for i in range(0, self.n):\n",
    "            # Here the previous index depending on the ramps are calculated flooring and ceiling them to n\n",
    "            ramp_up_index = i - self.ramp_up if i - self.ramp_up >= 0 else 0\n",
    "            ramp_down_index = i + self.ramp_down if i + self.ramp_down < self.n - 1 else self.n - 1\n",
    "            maintain_index = i\n",
    "\n",
    "\n",
    "            # this is a dictionary of the costs depending on the ramp. It should default to maintain.\n",
    "            cost_dict = {ramp_up_index: self.cost[time]['MaxLoadCost'],\n",
    "                         ramp_down_index: 0,\n",
    "                         maintain_index: self.cost[time]['MaintainCost']}\n",
    "\n",
    "            previous_time_step = self.model_table[model_table_index - 1]\n",
    "\n",
    "            ramp_up_cost = cost_dict[ramp_up_index] + previous_time_step[ramp_up_index].totalCost\n",
    "            ramp_down_cost = cost_dict[ramp_down_index] + previous_time_step[ramp_down_index].totalCost\n",
    "            maintain_cost = cost_dict[maintain_index] + previous_time_step[maintain_index].totalCost\n",
    "\n",
    "            #Ensures that only paths that are reachable from the previous timestep are used\n",
    "            ramp_up_cost = ramp_up_cost if not(np.isnan(ramp_up_cost)) else float_info.max\n",
    "            ramp_down_cost = ramp_down_cost if not(np.isnan(ramp_down_cost)) else float_info.max\n",
    "            maintain_cost = maintain_cost if not(np.isnan(maintain_cost)) else float_info.max\n",
    "\n",
    "            # these conditionals deal with when the state is around the minimum level\n",
    "            new_node = Node(time)\n",
    "            if i < self.min_level:\n",
    "                new_node.totalCost = ramp_up_cost\n",
    "                new_node.state_value.append(ramp_up_index / self.n)\n",
    "                new_node.state_value = previous_time_step[ramp_up_index].state_value + new_node.state_value\n",
    "                new_node.path.append(1)\n",
    "                new_node.path = previous_time_step[ramp_up_index].path + new_node.path\n",
    "                time_step.append(new_node)\n",
    "                continue\n",
    "            elif i == self.min_level and (maintain_cost < ramp_up_cost and maintain_cost < ramp_down_cost):\n",
    "                new_node.totalCost = maintain_cost\n",
    "                new_node.state_value.append(maintain_index / self.n)\n",
    "                new_node.state_value = previous_time_step[maintain_index].state_value + new_node.state_value\n",
    "                new_node.path.append(0.5)\n",
    "                new_node.path = previous_time_step[maintain_index].path + new_node.path\n",
    "                time_step.append(new_node)\n",
    "                continue\n",
    "\n",
    "\n",
    "            # This block of conditionals chooses the least cost path to the node and appends\n",
    "            # the current node to the growing list of nodes it has been to\n",
    "            if ramp_up_cost < ramp_down_cost and ramp_up_cost < maintain_cost:\n",
    "                # print(\"++++++++++++++++++++++++++++++++++++++++++\")\n",
    "                new_node.totalCost = ramp_up_cost\n",
    "                new_node.state_value.append(ramp_up_index / self.n)\n",
    "                new_node.state_value = previous_time_step[ramp_up_index].state_value + new_node.state_value\n",
    "                new_node.path.append(1)\n",
    "                new_node.path = previous_time_step[ramp_up_index].path + new_node.path\n",
    "            elif ramp_down_cost < ramp_up_cost and ramp_down_cost < maintain_cost:\n",
    "                new_node.totalCost = ramp_down_cost\n",
    "                new_node.state_value.append(ramp_down_index / self.n)\n",
    "                new_node.state_value = previous_time_step[ramp_down_index].state_value + new_node.state_value\n",
    "                new_node.path.append(0)\n",
    "                new_node.path = previous_time_step[ramp_down_index].path + new_node.path\n",
    "            elif maintain_cost < ramp_up_cost and maintain_cost < ramp_down_cost:\n",
    "                new_node.totalCost = maintain_cost\n",
    "                new_node.state_value.append(maintain_index / self.n)\n",
    "                new_node.state_value = previous_time_step[maintain_index].state_value + new_node.state_value\n",
    "                new_node.path.append(0.5)\n",
    "                new_node.path = previous_time_step[maintain_index].path + new_node.path\n",
    "            # print(new_node.totalCost)\n",
    "            time_step.append(new_node)\n",
    "        # print(time)\n",
    "        self.model_table.append(time_step)"
   ],
   "metadata": {
    "collapsed": false,
    "pycharm": {
     "name": "#%%\n"
    }
   }
  },
  {
   "cell_type": "markdown",
   "source": [
    "## Extracting the lowest cost path\n",
    "\n",
    "Extracting the lowest cost path is as simple as searching through all the nodes in the last\n",
    "timestep and finding the node with the lowest cumulative cost that has a valid path back to\n",
    "the start.\n"
   ],
   "metadata": {
    "collapsed": false
   }
  },
  {
   "cell_type": "code",
   "execution_count": null,
   "outputs": [],
   "source": [
    "    def get_cheapest_path(self):\n",
    "        min = max_possible_number\n",
    "        min_index = 0\n",
    "        for i in range(0, self.n):\n",
    "            mnode = self.model_table[self.n_time_steps - 1][i]\n",
    "            m = mnode.totalCost\n",
    "            if m < min and len(mnode.path) >= self.n_time_steps - 1:\n",
    "                min_index = i\n",
    "                min = m\n",
    "        self.cheapest_path = self.model_table[self.n_time_steps - 1][min_index]\n",
    "        return self.model_table[self.n_time_steps - 1][min_index], min_index"
   ],
   "metadata": {
    "collapsed": false,
    "pycharm": {
     "name": "#%%\n"
    }
   }
  },
  {
   "cell_type": "markdown",
   "source": [
    "## Extracting lowest cost path to state value\n",
    "\n",
    "Finding the lowest cost path to a particular state is simple also as the state_value variable\n",
    "holds the current state of each node and its path to that state. <br>\n",
    "Searching for the state as well as the lowest total cost and a valid path return the lowest cost\n",
    "path to that state."
   ],
   "metadata": {
    "collapsed": false
   }
  },
  {
   "cell_type": "code",
   "execution_count": null,
   "outputs": [],
   "source": [
    "    def get_cheapest_path_to_level(self, p_top, p_bottom):\n",
    "        sub_table = []\n",
    "        for i in range(0, self.n):\n",
    "            time_step = self.model_table[self.n_time_steps - 1][i]\n",
    "            end_index = len(time_step.state_value) - 1\n",
    "\n",
    "            if end_index >= self.n_time_steps - 1 and (time_step.state_value[end_index] >= p_bottom and time_step.state_value[end_index] <= p_top):\n",
    "                sub_table.append(time_step)\n",
    "\n",
    "        min = float_info.max\n",
    "        min_index = 0\n",
    "        for i in range(0, len(sub_table) - 1):\n",
    "            mnode = sub_table[i]\n",
    "            if m < min and len(mnode.path) >= self.n_time_steps - 1:\n",
    "                min_index = i\n",
    "                min = m\n",
    "        self.cheapest_path = sub_table[min_index]\n",
    "        return sub_table[min_index], min_index\n"
   ],
   "metadata": {
    "collapsed": false,
    "pycharm": {
     "name": "#%%\n"
    }
   }
  }
 ],
 "metadata": {
  "kernelspec": {
   "name": "pycharm-d2b3a68a",
   "language": "python",
   "display_name": "PyCharm (ELEC9715 Project)"
  },
  "language_info": {
   "codemirror_mode": {
    "name": "ipython",
    "version": 2
   },
   "file_extension": ".py",
   "mimetype": "text/x-python",
   "name": "python",
   "nbconvert_exporter": "python",
   "pygments_lexer": "ipython2",
   "version": "2.7.6"
  }
 },
 "nbformat": 4,
 "nbformat_minor": 0
}