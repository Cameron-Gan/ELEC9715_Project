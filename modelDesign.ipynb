{
 "cells": [
  {
   "cell_type": "code",
   "source": [
    "import numpy as np\n",
    "import matplotlib.pyplot as plt\n",
    "from matplotlib import collections  as mc\n",
    "import matplotlib.dates as mdates\n",
    "\n",
    "\n",
    "# interactive plot in jupyter notebook\n",
    "\n",
    "x = np.array([['2018-03-19T07:01:00.000073810', '2018-03-19T07:01:00.632164618'],\n",
    "       ['2018-03-19T07:01:00.000073811', '2018-03-19T07:01:00.742295898'],\n",
    "       ['2018-03-19T07:01:00.218747698', '2018-03-19T07:01:00.260067814'],\n",
    "      ['2018-03-19T07:01:01.218747698', '2018-03-19T07:01:02.260067814'],\n",
    "      ['2018-03-19T07:01:02.218747698', '2018-03-19T07:01:02.260067814'],\n",
    "      ['2018-03-19T07:01:02.218747698', '2018-03-19T07:01:02.260067814']],\n",
    "      dtype='datetime64[ns]')\n",
    "y = np.array([[12355.5, 12355.5],\n",
    "       [12363. , 12363. ],\n",
    "       [12362.5, 12362.5],\n",
    "       [12355.5, 12355.5],\n",
    "       [12363. , 12363. ],\n",
    "       [12362.5, 12362.5]])\n",
    "\n",
    "fig, ax = plt.subplots()\n",
    "segs = np.zeros((x.shape[0], x.shape[1], 2))\n",
    "print(segs[:,:,0])\n",
    "segs[:, :, 1] = y\n",
    "segs[:, :, 0] = mdates.date2num(x)\n",
    "lc = mc.LineCollection(segs)\n",
    "ax.set_xlim(segs[:,:,0].min(), segs[:,:,0].max())\n",
    "ax.set_ylim(segs[:,:,1].min()-1, segs[:,:,1].max()+1)\n",
    "ax.add_collection(lc)\n",
    "\n",
    "plt.show()"
   ],
   "metadata": {
    "collapsed": false,
    "pycharm": {
     "name": "#%%\n"
    }
   },
   "execution_count": 5,
   "outputs": [
    {
     "name": "stdout",
     "output_type": "stream",
     "text": [
      "[[0. 0.]\n",
      " [0. 0.]\n",
      " [0. 0.]\n",
      " [0. 0.]\n",
      " [0. 0.]\n",
      " [0. 0.]]\n"
     ]
    },
    {
     "data": {
      "text/plain": "<Figure size 432x288 with 1 Axes>",
      "image/png": "[encoded data removed]"
     },
     "metadata": {
      "needs_background": "light"
     },
     "output_type": "display_data"
    }
   ]
  },
  {
   "cell_type": "markdown",
   "source": [
    "\n"
   ],
   "metadata": {
    "collapsed": false
   }
  }
 ],
 "metadata": {
  "kernelspec": {
   "name": "pycharm-d2b3a68a",
   "language": "python",
   "display_name": "PyCharm (ELEC9715 Project)"
  },
  "language_info": {
   "codemirror_mode": {
    "name": "ipython",
    "version": 2
   },
   "file_extension": ".py",
   "mimetype": "text/x-python",
   "name": "python",
   "nbconvert_exporter": "python",
   "pygments_lexer": "ipython2",
   "version": "2.7.6"
  }
 },
 "nbformat": 4,
 "nbformat_minor": 0
}